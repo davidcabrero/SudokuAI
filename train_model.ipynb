{
 "cells": [
  {
   "cell_type": "markdown",
   "id": "e8dc7195",
   "metadata": {},
   "source": [
    "### Entrenar Modelo con Dataset MNIST (Primera Versión del modelo)"
   ]
  },
  {
   "cell_type": "code",
   "execution_count": null,
   "id": "8e87ac78",
   "metadata": {},
   "outputs": [
    {
     "name": "stderr",
     "output_type": "stream",
     "text": [
      "C:\\Users\\Usuario\\AppData\\Roaming\\Python\\Python312\\site-packages\\keras\\src\\layers\\convolutional\\base_conv.py:107: UserWarning: Do not pass an `input_shape`/`input_dim` argument to a layer. When using Sequential models, prefer using an `Input(shape)` object as the first layer in the model instead.\n",
      "  super().__init__(activity_regularizer=activity_regularizer, **kwargs)\n"
     ]
    },
    {
     "name": "stdout",
     "output_type": "stream",
     "text": [
      "Epoch 1/20\n",
      "\u001b[1m469/469\u001b[0m \u001b[32m━━━━━━━━━━━━━━━━━━━━\u001b[0m\u001b[37m\u001b[0m \u001b[1m23s\u001b[0m 43ms/step - accuracy: 0.8949 - loss: 0.6245 - val_accuracy: 0.8248 - val_loss: 0.7016\n",
      "Epoch 2/20\n",
      "\u001b[1m469/469\u001b[0m \u001b[32m━━━━━━━━━━━━━━━━━━━━\u001b[0m\u001b[37m\u001b[0m \u001b[1m23s\u001b[0m 50ms/step - accuracy: 0.9787 - loss: 0.2267 - val_accuracy: 0.9879 - val_loss: 0.1499\n",
      "Epoch 3/20\n",
      "\u001b[1m469/469\u001b[0m \u001b[32m━━━━━━━━━━━━━━━━━━━━\u001b[0m\u001b[37m\u001b[0m \u001b[1m21s\u001b[0m 45ms/step - accuracy: 0.9850 - loss: 0.1510 - val_accuracy: 0.9858 - val_loss: 0.1249\n",
      "Epoch 4/20\n",
      "\u001b[1m469/469\u001b[0m \u001b[32m━━━━━━━━━━━━━━━━━━━━\u001b[0m\u001b[37m\u001b[0m \u001b[1m21s\u001b[0m 44ms/step - accuracy: 0.9867 - loss: 0.1204 - val_accuracy: 0.9888 - val_loss: 0.1110\n",
      "Epoch 5/20\n",
      "\u001b[1m469/469\u001b[0m \u001b[32m━━━━━━━━━━━━━━━━━━━━\u001b[0m\u001b[37m\u001b[0m \u001b[1m25s\u001b[0m 53ms/step - accuracy: 0.9872 - loss: 0.1111 - val_accuracy: 0.9886 - val_loss: 0.1079\n",
      "Epoch 6/20\n",
      "\u001b[1m469/469\u001b[0m \u001b[32m━━━━━━━━━━━━━━━━━━━━\u001b[0m\u001b[37m\u001b[0m \u001b[1m22s\u001b[0m 46ms/step - accuracy: 0.9866 - loss: 0.1118 - val_accuracy: 0.9899 - val_loss: 0.0993\n",
      "Epoch 7/20\n",
      "\u001b[1m469/469\u001b[0m \u001b[32m━━━━━━━━━━━━━━━━━━━━\u001b[0m\u001b[37m\u001b[0m \u001b[1m20s\u001b[0m 42ms/step - accuracy: 0.9884 - loss: 0.1011 - val_accuracy: 0.9885 - val_loss: 0.1079\n",
      "Epoch 8/20\n",
      "\u001b[1m469/469\u001b[0m \u001b[32m━━━━━━━━━━━━━━━━━━━━\u001b[0m\u001b[37m\u001b[0m \u001b[1m22s\u001b[0m 46ms/step - accuracy: 0.9896 - loss: 0.0984 - val_accuracy: 0.9875 - val_loss: 0.1050\n",
      "Epoch 9/20\n",
      "\u001b[1m469/469\u001b[0m \u001b[32m━━━━━━━━━━━━━━━━━━━━\u001b[0m\u001b[37m\u001b[0m \u001b[1m21s\u001b[0m 45ms/step - accuracy: 0.9877 - loss: 0.1045 - val_accuracy: 0.9841 - val_loss: 0.1159\n",
      "Epoch 10/20\n",
      "\u001b[1m219/469\u001b[0m \u001b[32m━━━━━━━━━\u001b[0m\u001b[37m━━━━━━━━━━━\u001b[0m \u001b[1m10s\u001b[0m 43ms/step - accuracy: 0.9898 - loss: 0.0993"
     ]
    }
   ],
   "source": [
    "import tensorflow as tf\n",
    "from tensorflow.keras import layers, models, regularizers\n",
    "\n",
    "# Cargar MNIST directamente\n",
    "(x_train, y_train), (x_val, y_val) = tf.keras.datasets.mnist.load_data()\n",
    "\n",
    "# Normalizar\n",
    "x_train = x_train.astype('float32') / 255.\n",
    "x_val = x_val.astype('float32') / 255.\n",
    "\n",
    "# Redimensionar (se añade una dimensión ya que las cnn esperan 3 dimensiones)\n",
    "x_train = x_train[..., tf.newaxis]  # (28,28,1)\n",
    "x_val = x_val[..., tf.newaxis]\n",
    "\n",
    "# Mostrar cada valor del sudoku (0-9) como un vector de 10 números para el entrenamiento\n",
    "y_train = tf.keras.utils.to_categorical(y_train, 10)\n",
    "y_val = tf.keras.utils.to_categorical(y_val, 10)\n",
    "\n",
    "# Definir el modelo\n",
    "model = models.Sequential([\n",
    "    # Primera capa convolucional con 32 filtros, tamaño de kernel 3x3, función de activación ReLU y forma de entrada (28,28,1)\n",
    "    layers.Conv2D(32, (3,3), activation='relu', input_shape=(28,28,1), kernel_regularizer=regularizers.l2(0.001)),\n",
    "    layers.BatchNormalization(),\n",
    "    # Capa de pooling (submuestreo) con tamaño de ventana 2x2 para reducir la dimensionalidad\n",
    "    layers.MaxPooling2D((2,2)),\n",
    "    # Segunda capa convolucional con 64 filtros, tamaño de kernel 3x3 y función de activación ReLU\n",
    "    layers.Conv2D(64, (3,3), activation='relu', kernel_regularizer=regularizers.l2(0.001)),\n",
    "    layers.BatchNormalization(),\n",
    "    # Otra capa de pooling con tamaño de ventana 2x2\n",
    "    layers.MaxPooling2D((2,2)),\n",
    "    # Aplanar la salida\n",
    "    layers.Flatten(),\n",
    "    # Capa densa  con 64 neuronas y función de activación ReLU\n",
    "    layers.Dense(128, activation='relu', kernel_regularizer=regularizers.l2(0.001)),\n",
    "    layers.BatchNormalization(),\n",
    "    # Capa de dropout con una tasa del 50% para prevenir el sobreajuste\n",
    "    layers.Dropout(0.5),\n",
    "    # Capa de salida con 10 neuronas (una para cada dígito) y función de activación softmax para clasificación\n",
    "    layers.Dense(10, activation='softmax')\n",
    "])\n",
    "\n",
    "model.compile(optimizer='adam', loss='categorical_crossentropy', metrics=['accuracy'])\n",
    "model.fit(x_train, y_train, validation_data=(x_val, y_val), epochs=10, batch_size=128)\n",
    "\n",
    "# Guardar el modelo\n",
    "model.save('modelo_mnist.h5')"
   ]
  }
 ],
 "metadata": {
  "kernelspec": {
   "display_name": "Python 3",
   "language": "python",
   "name": "python3"
  },
  "language_info": {
   "codemirror_mode": {
    "name": "ipython",
    "version": 3
   },
   "file_extension": ".py",
   "mimetype": "text/x-python",
   "name": "python",
   "nbconvert_exporter": "python",
   "pygments_lexer": "ipython3",
   "version": "3.12.4"
  }
 },
 "nbformat": 4,
 "nbformat_minor": 5
}
