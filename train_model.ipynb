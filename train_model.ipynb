{
 "cells": [
  {
   "cell_type": "markdown",
   "id": "e8dc7195",
   "metadata": {},
   "source": [
    "### Entrenar Modelo para extraer la información del sudoku a resolver."
   ]
  },
  {
   "cell_type": "code",
   "execution_count": null,
   "id": "8e87ac78",
   "metadata": {},
   "outputs": [],
   "source": [
    "import tensorflow as tf\n",
    "from tensorflow.keras import layers, models"
   ]
  },
  {
   "cell_type": "code",
   "execution_count": null,
   "id": "4526bab7",
   "metadata": {},
   "outputs": [],
   "source": []
  }
 ],
 "metadata": {
  "kernelspec": {
   "display_name": "Python 3",
   "language": "python",
   "name": "python3"
  },
  "language_info": {
   "name": "python",
   "version": "3.12.4"
  }
 },
 "nbformat": 4,
 "nbformat_minor": 5
}
