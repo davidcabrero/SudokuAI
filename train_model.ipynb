{
 "cells": [
  {
   "cell_type": "markdown",
   "id": "e8dc7195",
   "metadata": {},
   "source": [
    "### Entrenar Modelo con Dataset MNIST (Primera Versión del modelo)"
   ]
  },
  {
   "cell_type": "code",
   "execution_count": 2,
   "id": "8e87ac78",
   "metadata": {},
   "outputs": [
    {
     "name": "stdout",
     "output_type": "stream",
     "text": [
      "Epoch 1/15\n",
      "\u001b[1m469/469\u001b[0m \u001b[32m━━━━━━━━━━━━━━━━━━━━\u001b[0m\u001b[37m\u001b[0m \u001b[1m23s\u001b[0m 45ms/step - accuracy: 0.8970 - loss: 0.6265 - val_accuracy: 0.8922 - val_loss: 0.5928\n",
      "Epoch 2/15\n",
      "\u001b[1m469/469\u001b[0m \u001b[32m━━━━━━━━━━━━━━━━━━━━\u001b[0m\u001b[37m\u001b[0m \u001b[1m23s\u001b[0m 49ms/step - accuracy: 0.9795 - loss: 0.2234 - val_accuracy: 0.9875 - val_loss: 0.1520\n",
      "Epoch 3/15\n",
      "\u001b[1m469/469\u001b[0m \u001b[32m━━━━━━━━━━━━━━━━━━━━\u001b[0m\u001b[37m\u001b[0m \u001b[1m20s\u001b[0m 42ms/step - accuracy: 0.9831 - loss: 0.1566 - val_accuracy: 0.9703 - val_loss: 0.1818\n",
      "Epoch 4/15\n",
      "\u001b[1m469/469\u001b[0m \u001b[32m━━━━━━━━━━━━━━━━━━━━\u001b[0m\u001b[37m\u001b[0m \u001b[1m21s\u001b[0m 44ms/step - accuracy: 0.9853 - loss: 0.1264 - val_accuracy: 0.9876 - val_loss: 0.1101\n",
      "Epoch 5/15\n",
      "\u001b[1m469/469\u001b[0m \u001b[32m━━━━━━━━━━━━━━━━━━━━\u001b[0m\u001b[37m\u001b[0m \u001b[1m21s\u001b[0m 45ms/step - accuracy: 0.9857 - loss: 0.1144 - val_accuracy: 0.9815 - val_loss: 0.1257\n",
      "Epoch 6/15\n",
      "\u001b[1m469/469\u001b[0m \u001b[32m━━━━━━━━━━━━━━━━━━━━\u001b[0m\u001b[37m\u001b[0m \u001b[1m20s\u001b[0m 43ms/step - accuracy: 0.9867 - loss: 0.1093 - val_accuracy: 0.9896 - val_loss: 0.1034\n",
      "Epoch 7/15\n",
      "\u001b[1m469/469\u001b[0m \u001b[32m━━━━━━━━━━━━━━━━━━━━\u001b[0m\u001b[37m\u001b[0m \u001b[1m21s\u001b[0m 44ms/step - accuracy: 0.9886 - loss: 0.1033 - val_accuracy: 0.9888 - val_loss: 0.1041\n",
      "Epoch 8/15\n",
      "\u001b[1m469/469\u001b[0m \u001b[32m━━━━━━━━━━━━━━━━━━━━\u001b[0m\u001b[37m\u001b[0m \u001b[1m20s\u001b[0m 42ms/step - accuracy: 0.9891 - loss: 0.0988 - val_accuracy: 0.9846 - val_loss: 0.1110\n",
      "Epoch 9/15\n",
      "\u001b[1m469/469\u001b[0m \u001b[32m━━━━━━━━━━━━━━━━━━━━\u001b[0m\u001b[37m\u001b[0m \u001b[1m19s\u001b[0m 41ms/step - accuracy: 0.9886 - loss: 0.0995 - val_accuracy: 0.9867 - val_loss: 0.1058\n",
      "Epoch 10/15\n",
      "\u001b[1m469/469\u001b[0m \u001b[32m━━━━━━━━━━━━━━━━━━━━\u001b[0m\u001b[37m\u001b[0m \u001b[1m19s\u001b[0m 41ms/step - accuracy: 0.9890 - loss: 0.0960 - val_accuracy: 0.9894 - val_loss: 0.1008\n",
      "Epoch 11/15\n",
      "\u001b[1m469/469\u001b[0m \u001b[32m━━━━━━━━━━━━━━━━━━━━\u001b[0m\u001b[37m\u001b[0m \u001b[1m19s\u001b[0m 41ms/step - accuracy: 0.9892 - loss: 0.0979 - val_accuracy: 0.9849 - val_loss: 0.1124\n",
      "Epoch 12/15\n",
      "\u001b[1m469/469\u001b[0m \u001b[32m━━━━━━━━━━━━━━━━━━━━\u001b[0m\u001b[37m\u001b[0m \u001b[1m20s\u001b[0m 42ms/step - accuracy: 0.9896 - loss: 0.0916 - val_accuracy: 0.9866 - val_loss: 0.1020\n",
      "Epoch 13/15\n",
      "\u001b[1m469/469\u001b[0m \u001b[32m━━━━━━━━━━━━━━━━━━━━\u001b[0m\u001b[37m\u001b[0m \u001b[1m19s\u001b[0m 40ms/step - accuracy: 0.9888 - loss: 0.0923 - val_accuracy: 0.9882 - val_loss: 0.0947\n",
      "Epoch 14/15\n",
      "\u001b[1m469/469\u001b[0m \u001b[32m━━━━━━━━━━━━━━━━━━━━\u001b[0m\u001b[37m\u001b[0m \u001b[1m20s\u001b[0m 42ms/step - accuracy: 0.9909 - loss: 0.0846 - val_accuracy: 0.9888 - val_loss: 0.0977\n",
      "Epoch 15/15\n",
      "\u001b[1m469/469\u001b[0m \u001b[32m━━━━━━━━━━━━━━━━━━━━\u001b[0m\u001b[37m\u001b[0m \u001b[1m19s\u001b[0m 41ms/step - accuracy: 0.9902 - loss: 0.0903 - val_accuracy: 0.9902 - val_loss: 0.0879\n"
     ]
    },
    {
     "name": "stderr",
     "output_type": "stream",
     "text": [
      "WARNING:absl:You are saving your model as an HDF5 file via `model.save()` or `keras.saving.save_model(model)`. This file format is considered legacy. We recommend using instead the native Keras format, e.g. `model.save('my_model.keras')` or `keras.saving.save_model(model, 'my_model.keras')`. \n"
     ]
    }
   ],
   "source": [
    "import tensorflow as tf\n",
    "from tensorflow.keras import layers, models, regularizers\n",
    "\n",
    "# Cargar MNIST directamente\n",
    "(x_train, y_train), (x_val, y_val) = tf.keras.datasets.mnist.load_data()\n",
    "\n",
    "# Normalizar\n",
    "x_train = x_train.astype('float32') / 255.\n",
    "x_val = x_val.astype('float32') / 255.\n",
    "\n",
    "# Redimensionar (se añade una dimensión ya que las cnn esperan 3 dimensiones)\n",
    "x_train = x_train[..., tf.newaxis]  # (28,28,1)\n",
    "x_val = x_val[..., tf.newaxis]\n",
    "\n",
    "# Mostrar cada valor del sudoku (0-9) como un vector de 10 números para el entrenamiento\n",
    "y_train = tf.keras.utils.to_categorical(y_train, 10)\n",
    "y_val = tf.keras.utils.to_categorical(y_val, 10)\n",
    "\n",
    "# Definir el modelo\n",
    "model = models.Sequential([\n",
    "    # Primera capa convolucional con 32 filtros, tamaño de kernel 3x3, función de activación ReLU y forma de entrada (28,28,1)\n",
    "    layers.Conv2D(32, (3,3), activation='relu', input_shape=(28,28,1), kernel_regularizer=regularizers.l2(0.001)),\n",
    "    layers.BatchNormalization(),\n",
    "    # Capa de pooling (submuestreo) con tamaño de ventana 2x2 para reducir la dimensionalidad\n",
    "    layers.MaxPooling2D((2,2)),\n",
    "    # Segunda capa convolucional con 64 filtros, tamaño de kernel 3x3 y función de activación ReLU\n",
    "    layers.Conv2D(64, (3,3), activation='relu', kernel_regularizer=regularizers.l2(0.001)),\n",
    "    layers.BatchNormalization(),\n",
    "    # Otra capa de pooling con tamaño de ventana 2x2\n",
    "    layers.MaxPooling2D((2,2)),\n",
    "    # Aplanar la salida\n",
    "    layers.Flatten(),\n",
    "    # Capa densa  con 64 neuronas y función de activación ReLU\n",
    "    layers.Dense(128, activation='relu', kernel_regularizer=regularizers.l2(0.001)),\n",
    "    layers.BatchNormalization(),\n",
    "    # Capa de dropout con una tasa del 50% para prevenir el sobreajuste\n",
    "    layers.Dropout(0.5),\n",
    "    # Capa de salida con 10 neuronas (una para cada dígito) y función de activación softmax para clasificación\n",
    "    layers.Dense(10, activation='softmax')\n",
    "])\n",
    "\n",
    "model.compile(optimizer='adam', loss='categorical_crossentropy', metrics=['accuracy'])\n",
    "model.fit(x_train, y_train, validation_data=(x_val, y_val), epochs=15, batch_size=128)\n",
    "\n",
    "# Guardar el modelo\n",
    "model.save('modelo_mnist.h5')"
   ]
  }
 ],
 "metadata": {
  "kernelspec": {
   "display_name": "Python 3",
   "language": "python",
   "name": "python3"
  },
  "language_info": {
   "codemirror_mode": {
    "name": "ipython",
    "version": 3
   },
   "file_extension": ".py",
   "mimetype": "text/x-python",
   "name": "python",
   "nbconvert_exporter": "python",
   "pygments_lexer": "ipython3",
   "version": "3.12.4"
  }
 },
 "nbformat": 4,
 "nbformat_minor": 5
}
