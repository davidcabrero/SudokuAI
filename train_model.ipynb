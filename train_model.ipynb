{
 "cells": [
  {
   "cell_type": "markdown",
   "id": "e8dc7195",
   "metadata": {},
   "source": [
    "### Entrenar Modelo con Dataset MNIST (Primera Versión del modelo)"
   ]
  },
  {
   "cell_type": "code",
   "execution_count": 1,
   "id": "8e87ac78",
   "metadata": {},
   "outputs": [
    {
     "name": "stderr",
     "output_type": "stream",
     "text": [
      "C:\\Users\\Usuario\\AppData\\Roaming\\Python\\Python312\\site-packages\\keras\\src\\layers\\convolutional\\base_conv.py:107: UserWarning: Do not pass an `input_shape`/`input_dim` argument to a layer. When using Sequential models, prefer using an `Input(shape)` object as the first layer in the model instead.\n",
      "  super().__init__(activity_regularizer=activity_regularizer, **kwargs)\n"
     ]
    },
    {
     "name": "stdout",
     "output_type": "stream",
     "text": [
      "Epoch 1/20\n",
      "\u001b[1m469/469\u001b[0m \u001b[32m━━━━━━━━━━━━━━━━━━━━\u001b[0m\u001b[37m\u001b[0m \u001b[1m23s\u001b[0m 42ms/step - accuracy: 0.9025 - loss: 0.6099 - val_accuracy: 0.6176 - val_loss: 1.1705\n",
      "Epoch 2/20\n",
      "\u001b[1m469/469\u001b[0m \u001b[32m━━━━━━━━━━━━━━━━━━━━\u001b[0m\u001b[37m\u001b[0m \u001b[1m24s\u001b[0m 52ms/step - accuracy: 0.9826 - loss: 0.2161 - val_accuracy: 0.9867 - val_loss: 0.1462\n",
      "Epoch 3/20\n",
      "\u001b[1m469/469\u001b[0m \u001b[32m━━━━━━━━━━━━━━━━━━━━\u001b[0m\u001b[37m\u001b[0m \u001b[1m23s\u001b[0m 49ms/step - accuracy: 0.9849 - loss: 0.1496 - val_accuracy: 0.9860 - val_loss: 0.1258\n",
      "Epoch 4/20\n",
      "\u001b[1m469/469\u001b[0m \u001b[32m━━━━━━━━━━━━━━━━━━━━\u001b[0m\u001b[37m\u001b[0m \u001b[1m19s\u001b[0m 41ms/step - accuracy: 0.9870 - loss: 0.1206 - val_accuracy: 0.9840 - val_loss: 0.1214\n",
      "Epoch 5/20\n",
      "\u001b[1m469/469\u001b[0m \u001b[32m━━━━━━━━━━━━━━━━━━━━\u001b[0m\u001b[37m\u001b[0m \u001b[1m18s\u001b[0m 39ms/step - accuracy: 0.9869 - loss: 0.1092 - val_accuracy: 0.9836 - val_loss: 0.1183\n",
      "Epoch 6/20\n",
      "\u001b[1m469/469\u001b[0m \u001b[32m━━━━━━━━━━━━━━━━━━━━\u001b[0m\u001b[37m\u001b[0m \u001b[1m20s\u001b[0m 43ms/step - accuracy: 0.9874 - loss: 0.1054 - val_accuracy: 0.9825 - val_loss: 0.1184\n",
      "Epoch 7/20\n",
      "\u001b[1m469/469\u001b[0m \u001b[32m━━━━━━━━━━━━━━━━━━━━\u001b[0m\u001b[37m\u001b[0m \u001b[1m20s\u001b[0m 43ms/step - accuracy: 0.9884 - loss: 0.1046 - val_accuracy: 0.9859 - val_loss: 0.1071\n",
      "Epoch 8/20\n",
      "\u001b[1m469/469\u001b[0m \u001b[32m━━━━━━━━━━━━━━━━━━━━\u001b[0m\u001b[37m\u001b[0m \u001b[1m20s\u001b[0m 42ms/step - accuracy: 0.9883 - loss: 0.1023 - val_accuracy: 0.9874 - val_loss: 0.1116\n",
      "Epoch 9/20\n",
      "\u001b[1m469/469\u001b[0m \u001b[32m━━━━━━━━━━━━━━━━━━━━\u001b[0m\u001b[37m\u001b[0m \u001b[1m20s\u001b[0m 42ms/step - accuracy: 0.9883 - loss: 0.1006 - val_accuracy: 0.9902 - val_loss: 0.1044\n",
      "Epoch 10/20\n",
      "\u001b[1m469/469\u001b[0m \u001b[32m━━━━━━━━━━━━━━━━━━━━\u001b[0m\u001b[37m\u001b[0m \u001b[1m20s\u001b[0m 43ms/step - accuracy: 0.9899 - loss: 0.0967 - val_accuracy: 0.9885 - val_loss: 0.0992\n",
      "Epoch 11/20\n",
      "\u001b[1m469/469\u001b[0m \u001b[32m━━━━━━━━━━━━━━━━━━━━\u001b[0m\u001b[37m\u001b[0m \u001b[1m20s\u001b[0m 43ms/step - accuracy: 0.9897 - loss: 0.0930 - val_accuracy: 0.9902 - val_loss: 0.0944\n",
      "Epoch 12/20\n",
      "\u001b[1m469/469\u001b[0m \u001b[32m━━━━━━━━━━━━━━━━━━━━\u001b[0m\u001b[37m\u001b[0m \u001b[1m22s\u001b[0m 47ms/step - accuracy: 0.9905 - loss: 0.0910 - val_accuracy: 0.9886 - val_loss: 0.0965\n",
      "Epoch 13/20\n",
      "\u001b[1m469/469\u001b[0m \u001b[32m━━━━━━━━━━━━━━━━━━━━\u001b[0m\u001b[37m\u001b[0m \u001b[1m22s\u001b[0m 47ms/step - accuracy: 0.9905 - loss: 0.0893 - val_accuracy: 0.9881 - val_loss: 0.0981\n",
      "Epoch 14/20\n",
      "\u001b[1m469/469\u001b[0m \u001b[32m━━━━━━━━━━━━━━━━━━━━\u001b[0m\u001b[37m\u001b[0m \u001b[1m23s\u001b[0m 48ms/step - accuracy: 0.9902 - loss: 0.0871 - val_accuracy: 0.9880 - val_loss: 0.0978\n",
      "Epoch 15/20\n",
      "\u001b[1m469/469\u001b[0m \u001b[32m━━━━━━━━━━━━━━━━━━━━\u001b[0m\u001b[37m\u001b[0m \u001b[1m20s\u001b[0m 43ms/step - accuracy: 0.9892 - loss: 0.0924 - val_accuracy: 0.9888 - val_loss: 0.0968\n",
      "Epoch 16/20\n",
      "\u001b[1m469/469\u001b[0m \u001b[32m━━━━━━━━━━━━━━━━━━━━\u001b[0m\u001b[37m\u001b[0m \u001b[1m19s\u001b[0m 41ms/step - accuracy: 0.9908 - loss: 0.0870 - val_accuracy: 0.9883 - val_loss: 0.0963\n",
      "Epoch 17/20\n",
      "\u001b[1m469/469\u001b[0m \u001b[32m━━━━━━━━━━━━━━━━━━━━\u001b[0m\u001b[37m\u001b[0m \u001b[1m18s\u001b[0m 39ms/step - accuracy: 0.9913 - loss: 0.0842 - val_accuracy: 0.9874 - val_loss: 0.0975\n",
      "Epoch 18/20\n",
      "\u001b[1m469/469\u001b[0m \u001b[32m━━━━━━━━━━━━━━━━━━━━\u001b[0m\u001b[37m\u001b[0m \u001b[1m18s\u001b[0m 39ms/step - accuracy: 0.9917 - loss: 0.0813 - val_accuracy: 0.9862 - val_loss: 0.1018\n",
      "Epoch 19/20\n",
      "\u001b[1m469/469\u001b[0m \u001b[32m━━━━━━━━━━━━━━━━━━━━\u001b[0m\u001b[37m\u001b[0m \u001b[1m19s\u001b[0m 41ms/step - accuracy: 0.9916 - loss: 0.0829 - val_accuracy: 0.9887 - val_loss: 0.0958\n",
      "Epoch 20/20\n",
      "\u001b[1m469/469\u001b[0m \u001b[32m━━━━━━━━━━━━━━━━━━━━\u001b[0m\u001b[37m\u001b[0m \u001b[1m20s\u001b[0m 42ms/step - accuracy: 0.9922 - loss: 0.0804 - val_accuracy: 0.9880 - val_loss: 0.0917\n"
     ]
    },
    {
     "name": "stderr",
     "output_type": "stream",
     "text": [
      "WARNING:absl:You are saving your model as an HDF5 file via `model.save()` or `keras.saving.save_model(model)`. This file format is considered legacy. We recommend using instead the native Keras format, e.g. `model.save('my_model.keras')` or `keras.saving.save_model(model, 'my_model.keras')`. \n"
     ]
    }
   ],
   "source": [
    "import tensorflow as tf\n",
    "from tensorflow.keras import layers, models, regularizers\n",
    "\n",
    "# Cargar MNIST directamente\n",
    "(x_train, y_train), (x_val, y_val) = tf.keras.datasets.mnist.load_data()\n",
    "\n",
    "# Normalizar\n",
    "x_train = x_train.astype('float32') / 255.\n",
    "x_val = x_val.astype('float32') / 255.\n",
    "\n",
    "# Redimensionar (se añade una dimensión ya que las cnn esperan 3 dimensiones)\n",
    "x_train = x_train[..., tf.newaxis]  # (28,28,1)\n",
    "x_val = x_val[..., tf.newaxis]\n",
    "\n",
    "# Mostrar cada valor del sudoku (0-9) como un vector de 10 números para el entrenamiento\n",
    "y_train = tf.keras.utils.to_categorical(y_train, 10)\n",
    "y_val = tf.keras.utils.to_categorical(y_val, 10)\n",
    "\n",
    "# Definir el modelo\n",
    "model = models.Sequential([\n",
    "    # Primera capa convolucional con 32 filtros, tamaño de kernel 3x3, función de activación ReLU y forma de entrada (28,28,1)\n",
    "    layers.Conv2D(32, (3,3), activation='relu', input_shape=(28,28,1), kernel_regularizer=regularizers.l2(0.001)),\n",
    "    layers.BatchNormalization(),\n",
    "    # Capa de pooling (submuestreo) con tamaño de ventana 2x2 para reducir la dimensionalidad\n",
    "    layers.MaxPooling2D((2,2)),\n",
    "    # Segunda capa convolucional con 64 filtros, tamaño de kernel 3x3 y función de activación ReLU\n",
    "    layers.Conv2D(64, (3,3), activation='relu', kernel_regularizer=regularizers.l2(0.001)),\n",
    "    layers.BatchNormalization(),\n",
    "    # Otra capa de pooling con tamaño de ventana 2x2\n",
    "    layers.MaxPooling2D((2,2)),\n",
    "    # Aplanar la salida\n",
    "    layers.Flatten(),\n",
    "    # Capa densa  con 64 neuronas y función de activación ReLU\n",
    "    layers.Dense(128, activation='relu', kernel_regularizer=regularizers.l2(0.001)),\n",
    "    layers.BatchNormalization(),\n",
    "    # Capa de dropout con una tasa del 50% para prevenir el sobreajuste\n",
    "    layers.Dropout(0.5),\n",
    "    # Capa de salida con 10 neuronas (una para cada dígito) y función de activación softmax para clasificación\n",
    "    layers.Dense(10, activation='softmax')\n",
    "])\n",
    "\n",
    "model.compile(optimizer='adam', loss='categorical_crossentropy', metrics=['accuracy'])\n",
    "model.fit(x_train, y_train, validation_data=(x_val, y_val), epochs=20, batch_size=128)\n",
    "\n",
    "# Guardar el modelo\n",
    "model.save('sudoku_model.h5')"
   ]
  }
 ],
 "metadata": {
  "kernelspec": {
   "display_name": "Python 3",
   "language": "python",
   "name": "python3"
  },
  "language_info": {
   "codemirror_mode": {
    "name": "ipython",
    "version": 3
   },
   "file_extension": ".py",
   "mimetype": "text/x-python",
   "name": "python",
   "nbconvert_exporter": "python",
   "pygments_lexer": "ipython3",
   "version": "3.12.4"
  }
 },
 "nbformat": 4,
 "nbformat_minor": 5
}
